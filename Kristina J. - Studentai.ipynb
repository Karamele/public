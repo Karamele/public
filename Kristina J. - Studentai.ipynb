{
 "cells": [
  {
   "cell_type": "markdown",
   "metadata": {},
   "source": [
    "### Duomenų failo nuskaitymas"
   ]
  },
  {
   "cell_type": "markdown",
   "metadata": {},
   "source": [
    "Parašykite funkciją, kuri nuskaito duoto duomenų failo turinį ir gražina iš duomenų suformuotą žodyną.\n",
    "* Funkcijai reikalingas `privalomas` argumentas, per kurį perduodamas Path() objektas, nurodantis kelią iki failo.\n",
    "* Funkcijos deklarafimas `def nuskaityti_faila(kelias):`\n",
    "* Raktas sudaromas iš studento vardo, tarpo ir pavardės pvz. \"`Vardas Pavardė`\"\n",
    "* Reikšmė - studento pažymių sąrašas int tipo skaičių pvz. `[8, 9, 7, 10]`"
   ]
  },
  {
   "cell_type": "markdown",
   "metadata": {},
   "source": [
    "### Vidurkio skaičiavimas"
   ]
  },
  {
   "cell_type": "markdown",
   "metadata": {},
   "source": [
    "Parašyti funkciją, kuriai per pirmą argumentą būtų perduodama turimą duomenų struktūra (žodynas), per antrą argumentą vidurkio riba (float). Ši funkcija suskaičiuotų kiekvieno studento vidurkį ir gražintų sąrašą studentų su vidurkiais didesniais arba lygiais nurodytai vidurkio ribai.\n",
    "* Funkcijos pirmas argumentas yra `privalomas` argumentas, per kurį perduodama duomenų struktūra (žodynas) gauta iš `nuskaityti_faila` funkcijos\n",
    "* Funkcijos antras argumentas `neturi būti privalomas`, kadangi jo reikšmė pagal nutylėjimą yra `7.0`\n",
    "* Funkcijos deklaravimas `def vidurkiai(zodynas, vidurkio_riba=7.0)`\n",
    "* Funkcija grąžina sąrašą su `tuple` elementais surušiuotą mažėjimo tvarka pagal vidurkį (pvz `[('Vardas Pavardė', 8.5), ('Vardas Pavardė', 8.2)]`)"
   ]
  },
  {
   "cell_type": "markdown",
   "metadata": {},
   "source": [
    "### Duomenų išvedimas ir išsaugojimas į failą"
   ]
  },
  {
   "cell_type": "markdown",
   "metadata": {},
   "source": [
    "Parašyti 3 funkcijas: pirma funkcija suformuotų `str` tekstą išvedimui iš paduotų duomenų, antra atspausdina paduotą tekstą ir trečia įrašo paduotą tekstą į failą.\n",
    "* Pirmos funkcijos deklaravimas `def suformuoti(sarasas)` ši funkcija apdoroja duomenis gautus iš funkcijos `vidurkiai` ir grąžina suformatuotą tekstą lentelės pavidalu. Skaičiai turi būti suapvalintas iki `1` skaičiaus po kablelio. Pvz:\n",
    "```console\n",
    "+-------------------+----------+\n",
    "| Vardas ir pavardė | Vidurkis |\n",
    "+-------------------+----------+\n",
    "| Vardas Pavardė    |      7.6 |\n",
    "| Vardas Pavardė    |      7.5 |\n",
    "+-------------------+----------+\n",
    "```\n",
    "* Antros funkcijos deklaravimas `def spausdinti(tekstas)` ši funkcija atspausdina perduotą tekstą per argumentą\n",
    "* Trečios funkcijos deklaravimas `def irasyti(tekstas, kelias)` ši funkcija įrašo perduodą tekstą į failą pasiekiamą per `Path()` kelio objektą perduotą per antrą argumentą"
   ]
  },
  {
   "cell_type": "markdown",
   "metadata": {},
   "source": [
    "### Programos kodas"
   ]
  },
  {
   "cell_type": "markdown",
   "metadata": {},
   "source": [
    "Kodo eiga:\n",
    "* Nuskaitomas duomenų failas kviečiant funkciją `nuskaityti_faila`\n",
    "* Atrenkami studentai pagal pasirinktą vidurkio ribą kviečiant funkciją `vidurkiai`\n",
    "* Suformuojamas tekstas išvedimui kviečiant funkciją `suformuoti`\n",
    "* Išvedamas tekstas kviečiant funkciją `spausdinti`\n",
    "* Išsaugomas tekstas į failą `rezultatas.txt` kviečiant funkciją `irasyti`"
   ]
  },
  {
   "cell_type": "code",
   "execution_count": 4,
   "metadata": {},
   "outputs": [
    {
     "name": "stdout",
     "output_type": "stream",
     "text": [
      "+-------------------------+----------+\n",
      "|    Vardas ir pavardė    | Vidurkis |\n",
      "+-------------------------+----------+\n",
      "| Erika Savickaitė        |      7.4 |\n",
      "| Gabrielė Butkutė        |      7.4 |\n",
      "| Kamilė Paulauskaitė     |      7.4 |\n",
      "| Martynas Butkus         |      7.4 |\n",
      "| Ričardas Petrauskas     |      7.3 |\n",
      "| Rūta Kazlauskaitė       |      7.3 |\n",
      "| Ingrida Kazlauskaitė    |      7.0 |\n",
      "| Nojus Stankevičius      |      6.7 |\n",
      "| Simas Žukauskas         |      6.6 |\n",
      "| Elijus Savickas         |      6.5 |\n",
      "+-------------------------+----------+\n"
     ]
    }
   ],
   "source": [
    "from pathlib import Path\n",
    "\n",
    "def nuskaityti_faila(kelias):\n",
    "    katalogo_kelias = Path(kelias)\n",
    "    try:\n",
    "        failo_turinys = katalogo_kelias.read_text(encoding=\"utf-8\").split(\"\\n\")\n",
    "    except Exception as e:\n",
    "        print(f\"Klaida skaitant failą: {e}\")\n",
    "        return {}\n",
    "            \n",
    "    zmones = {}\n",
    "    for eilute in failo_turinys:\n",
    "        vardas_pavarde = \" \".join(eilute.split(\",\")[:2])\n",
    "        pazymiai = list(map(int, eilute.split(\",\")[2:]))\n",
    "        zmones[vardas_pavarde] = pazymiai\n",
    "    return zmones\n",
    "\n",
    "\n",
    "def vidurkiai(zodynas, vidurkio_riba=7.0):\n",
    "    zmones_vidurkiai = []\n",
    "    for raktas, reiksme in zodynas.items():\n",
    "        vidurkis = round(sum(reiksme) / len(reiksme), 1)\n",
    "        tuple_elementas = (\n",
    "            raktas,\n",
    "            vidurkis\n",
    "        )\n",
    "        if vidurkis >= vidurkio_riba:\n",
    "            zmones_vidurkiai.append(tuple_elementas)\n",
    "    surikiuotas = sorted(zmones_vidurkiai, key=lambda elem: elem[1], reverse=True)\n",
    "    return surikiuotas\n",
    "\n",
    "\n",
    "def suformuoti(sarasas):\n",
    "    stulp_plotis1 = 25\n",
    "    stulp_plotis2 = 10\n",
    "    antrastes_pav = (\"Vardas ir pavardė\", \"Vidurkis\")\n",
    "    formatuota_eilute = ''\n",
    "    formatuota_eilute += f\"+{'-' * stulp_plotis1}+{'-' * stulp_plotis2}+\\n\"\n",
    "    antraste = f\"| {antrastes_pav[0]:^{stulp_plotis1 - 1}}| {antrastes_pav[1]:^{stulp_plotis2 - 1}}|\"\n",
    "    formatuota_eilute += antraste + '\\n'\n",
    "    formatuota_eilute += f\"+{'-'* stulp_plotis1}+{'-'* stulp_plotis2}+\\n\"\n",
    "\n",
    "    for vardas_pavarde, vidurkis in sarasas:\n",
    "        eilute = (\n",
    "            f\"| {vardas_pavarde:<{stulp_plotis1 - 1}}| {vidurkis:{stulp_plotis2 - 2}} |\"\n",
    "        )\n",
    "        formatuota_eilute += eilute + '\\n'\n",
    "    formatuota_eilute += f\"+{'-'* stulp_plotis1}+{'-'* stulp_plotis2}+\"\n",
    "    return formatuota_eilute\n",
    "\n",
    "\n",
    "def spausdinti(tekstas):\n",
    "    print(tekstas)\n",
    "\n",
    "\n",
    "def irasyti(tekstas, kelias):\n",
    "    naujas_failas = Path(kelias)\n",
    "    try:\n",
    "        naujas_failas.write_text(tekstas, encoding=\"utf-8\")\n",
    "    except Exception as e:\n",
    "        print(f\"Klaida įrašant į failą: {e}\")\n",
    "\n",
    "#pvz.\n",
    "failo_kelias = \"KristinaJ.csv\"\n",
    "zmoniu_duomenys = nuskaityti_faila(failo_kelias)\n",
    "vidurkiu_sarasas = vidurkiai(zmoniu_duomenys, 6.5)\n",
    "paruostas_tekstas = suformuoti(vidurkiu_sarasas)\n",
    "spausdinti(paruostas_tekstas)\n",
    "irasyti(paruostas_tekstas, \"rezultatas.txt\")\n"
   ]
  }
 ],
 "metadata": {
  "kernelspec": {
   "display_name": ".venv",
   "language": "python",
   "name": "python3"
  },
  "language_info": {
   "codemirror_mode": {
    "name": "ipython",
    "version": 3
   },
   "file_extension": ".py",
   "mimetype": "text/x-python",
   "name": "python",
   "nbconvert_exporter": "python",
   "pygments_lexer": "ipython3",
   "version": "3.12.3"
  }
 },
 "nbformat": 4,
 "nbformat_minor": 2
}
